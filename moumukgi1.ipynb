{
 "cells": [
  {
   "cell_type": "code",
   "execution_count": 3,
   "metadata": {},
   "outputs": [],
   "source": [
    "import pandas as pd\n",
    "import numpy as np\n",
    "import tensorflow as tf\n",
    "import matplotlib.pyplot as plt\n",
    "import random"
   ]
  },
  {
   "cell_type": "code",
   "execution_count": 4,
   "metadata": {},
   "outputs": [],
   "source": [
    "main_dish = pd.read_csv('main_dish.csv')\n",
    "side_dish = pd.read_csv('side_dish.csv')\n",
    "kimchi = pd.read_csv('removed_kimchi.csv')\n",
    "rice = pd.read_csv('removed_rice.csv')\n",
    "soup = pd.read_csv('removed_soup.csv')"
   ]
  },
  {
   "cell_type": "code",
   "execution_count": 5,
   "metadata": {},
   "outputs": [
    {
     "data": {
      "text/html": [
       "<div>\n",
       "<style scoped>\n",
       "    .dataframe tbody tr th:only-of-type {\n",
       "        vertical-align: middle;\n",
       "    }\n",
       "\n",
       "    .dataframe tbody tr th {\n",
       "        vertical-align: top;\n",
       "    }\n",
       "\n",
       "    .dataframe thead th {\n",
       "        text-align: right;\n",
       "    }\n",
       "</style>\n",
       "<table border=\"1\" class=\"dataframe\">\n",
       "  <thead>\n",
       "    <tr style=\"text-align: right;\">\n",
       "      <th></th>\n",
       "      <th>RecipeID</th>\n",
       "      <th>Name</th>\n",
       "      <th>식품대분류</th>\n",
       "      <th>식품상세분류</th>\n",
       "      <th>1회제공량(g)</th>\n",
       "      <th>calories</th>\n",
       "      <th>carbohydrate</th>\n",
       "      <th>protein</th>\n",
       "      <th>fat</th>\n",
       "      <th>sugar</th>\n",
       "      <th>sodium</th>\n",
       "    </tr>\n",
       "  </thead>\n",
       "  <tbody>\n",
       "    <tr>\n",
       "      <th>0</th>\n",
       "      <td>1</td>\n",
       "      <td>오징어순대</td>\n",
       "      <td>찜류</td>\n",
       "      <td>어패류찜</td>\n",
       "      <td>350</td>\n",
       "      <td>466.86</td>\n",
       "      <td>58.3</td>\n",
       "      <td>45.7</td>\n",
       "      <td>5.6</td>\n",
       "      <td>0.4</td>\n",
       "      <td>1258.71</td>\n",
       "    </tr>\n",
       "    <tr>\n",
       "      <th>1</th>\n",
       "      <td>2</td>\n",
       "      <td>대구찜</td>\n",
       "      <td>찜류</td>\n",
       "      <td>어패류찜</td>\n",
       "      <td>500</td>\n",
       "      <td>376.42</td>\n",
       "      <td>24.7</td>\n",
       "      <td>51.7</td>\n",
       "      <td>7.9</td>\n",
       "      <td>5.7</td>\n",
       "      <td>1898.67</td>\n",
       "    </tr>\n",
       "    <tr>\n",
       "      <th>2</th>\n",
       "      <td>3</td>\n",
       "      <td>동태찜</td>\n",
       "      <td>찜류</td>\n",
       "      <td>어패류찜</td>\n",
       "      <td>500</td>\n",
       "      <td>394.32</td>\n",
       "      <td>25.8</td>\n",
       "      <td>50.9</td>\n",
       "      <td>9.7</td>\n",
       "      <td>5.7</td>\n",
       "      <td>1985.60</td>\n",
       "    </tr>\n",
       "    <tr>\n",
       "      <th>3</th>\n",
       "      <td>4</td>\n",
       "      <td>돼지등갈비찜</td>\n",
       "      <td>찜류</td>\n",
       "      <td>육류찜</td>\n",
       "      <td>450</td>\n",
       "      <td>961.04</td>\n",
       "      <td>57.4</td>\n",
       "      <td>72.1</td>\n",
       "      <td>49.2</td>\n",
       "      <td>24.1</td>\n",
       "      <td>2395.17</td>\n",
       "    </tr>\n",
       "    <tr>\n",
       "      <th>4</th>\n",
       "      <td>5</td>\n",
       "      <td>돼지머리고기</td>\n",
       "      <td>찜류</td>\n",
       "      <td>육류찜</td>\n",
       "      <td>200</td>\n",
       "      <td>650.00</td>\n",
       "      <td>3.5</td>\n",
       "      <td>42.4</td>\n",
       "      <td>52.0</td>\n",
       "      <td>0.1</td>\n",
       "      <td>333.64</td>\n",
       "    </tr>\n",
       "  </tbody>\n",
       "</table>\n",
       "</div>"
      ],
      "text/plain": [
       "   RecipeID    Name 식품대분류 식품상세분류  1회제공량(g)  calories  carbohydrate  protein  \\\n",
       "0         1   오징어순대    찜류   어패류찜       350    466.86          58.3     45.7   \n",
       "1         2     대구찜    찜류   어패류찜       500    376.42          24.7     51.7   \n",
       "2         3     동태찜    찜류   어패류찜       500    394.32          25.8     50.9   \n",
       "3         4  돼지등갈비찜    찜류    육류찜       450    961.04          57.4     72.1   \n",
       "4         5  돼지머리고기    찜류    육류찜       200    650.00           3.5     42.4   \n",
       "\n",
       "    fat  sugar   sodium  \n",
       "0   5.6    0.4  1258.71  \n",
       "1   7.9    5.7  1898.67  \n",
       "2   9.7    5.7  1985.60  \n",
       "3  49.2   24.1  2395.17  \n",
       "4  52.0    0.1   333.64  "
      ]
     },
     "execution_count": 5,
     "metadata": {},
     "output_type": "execute_result"
    }
   ],
   "source": [
    "main_dish.head()\n",
    "# side_dish.head()\n",
    "# kimchi.head()\n",
    "# rice.head()\n",
    "# soup.head()"
   ]
  },
  {
   "cell_type": "code",
   "execution_count": 6,
   "metadata": {},
   "outputs": [
    {
     "data": {
      "text/plain": [
       "0      466.86\n",
       "1      376.42\n",
       "2      394.32\n",
       "3      961.04\n",
       "4      650.00\n",
       "        ...  \n",
       "197     84.27\n",
       "198     37.80\n",
       "199    100.00\n",
       "200    113.00\n",
       "201     99.00\n",
       "Name: calories, Length: 202, dtype: float64"
      ]
     },
     "execution_count": 6,
     "metadata": {},
     "output_type": "execute_result"
    }
   ],
   "source": [
    "main_dish['calories']"
   ]
  },
  {
   "cell_type": "code",
   "execution_count": 7,
   "metadata": {},
   "outputs": [
    {
     "name": "stdout",
     "output_type": "stream",
     "text": [
      "<class 'pandas.core.frame.DataFrame'>\n",
      "RangeIndex: 202 entries, 0 to 201\n",
      "Data columns (total 11 columns):\n",
      " #   Column        Non-Null Count  Dtype  \n",
      "---  ------        --------------  -----  \n",
      " 0   RecipeID      202 non-null    int64  \n",
      " 1   Name          202 non-null    object \n",
      " 2   식품대분류         202 non-null    object \n",
      " 3   식품상세분류        202 non-null    object \n",
      " 4   1회제공량(g)      202 non-null    int64  \n",
      " 5   calories      202 non-null    float64\n",
      " 6   carbohydrate  202 non-null    float64\n",
      " 7   protein       202 non-null    float64\n",
      " 8   fat           202 non-null    float64\n",
      " 9   sugar         202 non-null    float64\n",
      " 10  sodium        202 non-null    float64\n",
      "dtypes: float64(6), int64(2), object(3)\n",
      "memory usage: 17.5+ KB\n"
     ]
    }
   ],
   "source": [
    "main_dish.info()\n",
    "# side_dish.info()\n",
    "# kimchi.info()\n",
    "# rice.info()\n",
    "# soup.info()"
   ]
  },
  {
   "cell_type": "code",
   "execution_count": 8,
   "metadata": {},
   "outputs": [
    {
     "data": {
      "image/png": "[encoded data removed]",
      "text/plain": [
       "<Figure size 1000x800 with 1 Axes>"
      ]
     },
     "metadata": {},
     "output_type": "display_data"
    }
   ],
   "source": [
    "fig, ax = plt.subplots(figsize=(10, 8))\n",
    "plt.title('Frequency Histogram')\n",
    "plt.ylabel('Frequency')\n",
    "plt.xlabel('Bins Center')\n",
    "ax.hist(main_dish.calories.to_numpy(),bins=[0,100,200,300,400,500,600,700,800,900,1000,1000,2000,3000,5000],linewidth=0.5, edgecolor=\"white\")\n",
    "plt.show()"
   ]
  },
  {
   "cell_type": "code",
   "execution_count": 9,
   "metadata": {},
   "outputs": [
    {
     "data": {
      "image/png": "[encoded data removed]",
      "text/plain": [
       "<Figure size 640x480 with 1 Axes>"
      ]
     },
     "metadata": {},
     "output_type": "display_data"
    }
   ],
   "source": [
    "import pylab \n",
    "import scipy.stats as stats\n",
    "stats.probplot(main_dish.calories.to_numpy(), dist=\"norm\", plot=pylab)\n",
    "pylab.show()"
   ]
  },
  {
   "cell_type": "code",
   "execution_count": 10,
   "metadata": {},
   "outputs": [],
   "source": [
    "main_dish_dataset=main_dish.copy()\n",
    "side_dish_dataset=side_dish.copy()\n",
    "kimchi_dataset=kimchi.copy()\n",
    "rice_dataset=rice.copy()\n",
    "soup_dataset=soup.copy()\n",
    "columns=['RecipeID','Name','calories','carbohydrate','protein','fat','sugar','sodium']\n",
    "main_dish_dataset=main_dish_dataset[columns]\n",
    "side_dish_dataset=side_dish_dataset[columns]\n",
    "kimchi_dataset=kimchi_dataset[columns]\n",
    "rice_dataset=rice_dataset[columns]\n",
    "soup_dataset=soup_dataset[columns]"
   ]
  },
  {
   "cell_type": "code",
   "execution_count": 11,
   "metadata": {},
   "outputs": [
    {
     "name": "stdout",
     "output_type": "stream",
     "text": [
      "[[93, 17, 5, 13, 151], [59, 129, 52, 22, 9], [152, 36, 6, 24, 42], [12, 17, 7, 16, 61], [46, 46, 15, 21, 94], [143, 20, 4, 1, 74], [156, 114, 53, 9, 96], [33, 90, 55, 9, 89], [126, 138, 20, 1, 48], [119, 18, 52, 26, 130], [93, 29, 44, 2, 27], [147, 85, 22, 11, 130], [80, 87, 31, 8, 153], [19, 95, 44, 3, 185], [118, 130, 37, 8, 143], [99, 50, 22, 14, 152], [130, 114, 27, 9, 54], [138, 77, 31, 18, 174], [192, 57, 27, 25, 95], [156, 91, 48, 24, 61], [167, 58, 33, 22, 66], [74, 37, 2, 5, 19], [182, 107, 21, 6, 26], [163, 42, 24, 19, 164], [96, 100, 36, 17, 153], [102, 73, 39, 8, 156], [80, 52, 8, 1, 39], [90, 68, 42, 7, 180], [102, 26, 30, 23, 73], [68, 5, 31, 5, 112], [32, 125, 4, 12, 152], [75, 38, 17, 10, 128], [78, 11, 14, 4, 48], [27, 147, 17, 14, 78], [176, 65, 29, 6, 64], [37, 140, 54, 9, 40], [134, 23, 29, 13, 29], [38, 33, 6, 11, 163], [124, 11, 9, 5, 74], [84, 104, 6, 14, 129], [40, 17, 52, 5, 68], [35, 45, 32, 20, 86], [50, 75, 14, 14, 6], [49, 84, 41, 20, 165], [48, 144, 6, 16, 111], [200, 146, 11, 19, 140], [160, 45, 42, 24, 36], [109, 139, 51, 1, 25], [148, 119, 41, 22, 99], [130, 108, 32, 15, 54], [4, 108, 42, 8, 6], [108, 84, 40, 13, 32], [18, 127, 22, 25, 36], [83, 67, 3, 26, 124], [173, 10, 19, 5, 68], [194, 25, 46, 7, 72], [32, 82, 17, 9, 7], [106, 26, 2, 2, 67], [68, 15, 40, 12, 171], [89, 70, 11, 6, 121], [133, 69, 34, 4, 98], [130, 80, 51, 9, 131], [158, 130, 23, 23, 79], [100, 41, 29, 23, 153], [100, 82, 27, 10, 36], [1, 100, 16, 2, 76], [48, 51, 50, 20, 38], [130, 104, 12, 16, 27], [143, 130, 5, 18, 35], [115, 6, 19, 7, 101], [76, 80, 35, 20, 141], [44, 107, 48, 4, 156], [161, 151, 40, 20, 90], [51, 151, 2, 13, 100], [131, 102, 39, 26, 1], [30, 71, 2, 13, 14], [186, 128, 45, 4, 54], [37, 136, 3, 13, 67], [91, 61, 55, 16, 63], [169, 58, 50, 24, 94], [27, 143, 7, 21, 87], [178, 44, 25, 21, 93], [171, 66, 24, 19, 119], [161, 5, 3, 13, 22], [20, 80, 51, 22, 58], [73, 97, 25, 12, 1], [67, 7, 11, 21, 143], [66, 122, 26, 13, 25], [14, 6, 54, 25, 65], [163, 68, 2, 24, 2], [1, 32, 32, 16, 116], [79, 15, 19, 7, 97], [84, 117, 28, 14, 177], [103, 80, 24, 17, 99], [82, 98, 43, 25, 103], [28, 56, 31, 13, 41], [83, 84, 50, 10, 53], [34, 90, 18, 4, 91], [187, 48, 34, 4, 59], [50, 118, 14, 1, 36]]\n"
     ]
    }
   ],
   "source": [
    "random_meal = []\n",
    "for i in range(0, 100):\n",
    "    list = []\n",
    "    main_random_num = random.randint(1, len(main_dish_dataset.index))\n",
    "    side_random_num = random.randint(1, len(side_dish_dataset.index))\n",
    "    rice_random_num = random.randint(1, len(rice_dataset.index))\n",
    "    kimchi_random_num = random.randint(1, len(kimchi_dataset.index))\n",
    "    soup_random_num = random.randint(1, len(soup_dataset.index))\n",
    "    list = [main_random_num, side_random_num, rice_random_num, kimchi_random_num, soup_random_num]\n",
    "    random_meal.append(list)\n",
    "print(random_meal)\n",
    "\n"
   ]
  },
  {
   "cell_type": "code",
   "execution_count": 12,
   "metadata": {},
   "outputs": [
    {
     "name": "stdout",
     "output_type": "stream",
     "text": [
      "36\n",
      "RecipeID            36\n",
      "Name             대구매운탕\n",
      "calories        361.75\n",
      "carbohydrate     16.84\n",
      "protein          57.36\n",
      "fat               7.21\n",
      "sugar             1.09\n",
      "sodium          1983.9\n",
      "Name: 35, dtype: object\n",
      "[559.51, 598.89, 1290.51, 1313.84, 1360.73, 796.0, 1119.34, 1671.07, 1766.9299999999998, 1870.9299999999998, 105.0, 136.92000000000002, 823.03, 863.6999999999999, 949.5699999999999, 492.32, 531.7, 1113.51, 1140.05, 1283.03, 206.0, 497.79, 1203.01, 1216.12, 1304.6699999999998, 112.0, 179.82, 821.98, 877.51, 1083.52, 135.0, 264.0, 665.9300000000001, 693.1400000000001, 823.4700000000001, 168.18, 255.81, 604.51, 631.72, 754.63, 131.0, 247.15, 831.86, 887.39, 1204.1100000000001, 113.18, 196.76, 748.49, 759.35, 1496.6, 559.51, 597.3, 1169.92, 1187.6000000000001, 1355.16, 106.0, 155.19, 705.8299999999999, 722.3899999999999, 1459.6399999999999, 268.47, 285.97, 923.51, 943.29, 999.61, 370.54, 445.89, 1018.51, 1035.04, 1243.04, 401.83, 639.17, 1331.88, 1351.66, 1505.72, 275.24, 309.77, 860.41, 910.87, 964.37, 166.0, 295.0, 561.19, 588.4000000000001, 711.4900000000001, 166.0, 210.97, 848.51, 871.4, 958.4, 87.19, 102.02, 368.21, 381.66999999999996, 460.28, 135.0, 209.13, 683.16, 723.8299999999999, 866.81, 384.0, 489.95, 946.94, 1042.8, 1130.1799999999998, 558.83, 583.0, 583.0, 599.4, 766.4, 318.37, 573.01, 904.9200000000001, 936.07, 1251.23, 276.0, 303.32, 813.9, 827.22, 984.22, 543.39, 773.67, 1416.83, 1449.21, 1505.53, 255.56, 329.65999999999997, 605.98, 625.76, 640.1, 268.47, 522.78, 1034.58, 1090.11, 1322.1599999999999, 46.14, 96.32, 921.47, 931.2900000000001, 1150.29, 255.56, 393.56, 1121.74, 1153.4, 1264.43, 106.07, 242.07, 879.6099999999999, 896.0099999999999, 1137.1999999999998, 410.53, 813.93, 1456.09, 1483.3, 1536.8, 85.13, 158.67000000000002, 725.6700000000001, 736.33, 840.97, 299.11, 448.11, 1220.04, 1255.31, 1572.03, 581.39, 915.54, 1482.54, 1533.0, 1696.1, 166.24, 206.95000000000002, 847.4300000000001, 878.58, 1076.75, 51.22, 199.1, 595.41, 622.62, 708.99, 157.0, 306.15999999999997, 946.64, 969.97, 1135.97, 111.2, 258.96, 945.0699999999999, 961.6299999999999, 1027.6299999999999, 155.0, 304.0, 692.8199999999999, 709.2199999999999, 915.2299999999999, 206.95, 414.89, 1101.0, 1151.46, 1385.14, 94.34, 133.72, 685.45, 701.85, 748.21, 582.68, 643.8199999999999, 1279.57, 1291.53, 1329.51, 108.0, 152.4, 924.3299999999999, 974.79, 1408.84, 288.21, 348.96999999999997, 641.5699999999999, 653.53, 729.53, 352.0, 563.0, 1249.1100000000001, 1275.65, 1473.44, 100.0, 614.51, 1391.95, 1405.27, 1490.74, 278.0, 339.14, 1164.29, 1204.96, 1566.71, 127.82, 250.16, 536.16, 591.6899999999999, 946.6899999999999, 195.0, 513.36, 805.96, 901.82, 964.5400000000001, 166.0, 392.40999999999997, 1028.1599999999999, 1038.87, 1161.9599999999998, 961.04, 1187.45, 2012.6, 2032.3799999999999, 2466.43, 170.46, 231.22, 673.51, 696.84, 791.84, 277.31, 567.12, 1117.76, 1131.22, 1492.97, 174.33, 210.83, 758.0400000000001, 768.9000000000001, 1030.71, 138.11, 194.03000000000003, 524.6400000000001, 541.0400000000001, 587.4000000000001, 119.8, 197.37, 627.0699999999999, 636.89, 715.97, 410.53, 439.47999999999996, 1006.48, 1033.69, 1254.69, 114.05, 252.05, 252.05, 269.73, 330.84000000000003, 106.07, 192.31, 634.6, 661.8100000000001, 722.8100000000001, 61.43, 72.69, 850.1300000000001, 881.2800000000001, 972.19, 174.0, 198.63, 520.52, 555.79, 637.6999999999999, 166.0, 232.3, 518.3, 545.51, 805.0999999999999, 307.0, 544.34, 1069.58, 1101.24, 1275.08, 414.12, 487.02, 1127.5, 1159.16, 1215.48, 414.12, 443.07, 709.26, 719.92, 1081.67, 466.86, 697.14, 1380.1599999999999, 1397.84, 2309.23, 352.0, 404.32, 796.49, 808.45, 1208.45, 166.0, 373.94, 1090.48, 1117.02, 1284.58, 112.0, 349.34000000000003, 1040.96, 1063.8500000000001, 1251.65, 153.12, 369.12, 699.73, 709.5500000000001, 832.72, 371.22, 437.52000000000004, 859.6500000000001, 871.6100000000001, 1408.5500000000002, 256.77, 511.40999999999997, 985.4399999999999, 1020.7099999999999, 1035.05, 297.98, 825.98, 1268.27, 1280.23, 1387.18, 52.38, 580.38, 580.38, 603.71, 628.37, 166.0, 361.0, 637.3199999999999, 648.18, 1063.4299999999998, 328.77, 370.95, 370.95, 394.28, 517.28, 112.38, 363.6, 676.84, 712.11, 835.2, 51.22, 307.36, 854.57, 877.9000000000001, 939.0100000000001, 145.44, 197.07999999999998, 545.78, 572.3199999999999, 617.16, 56.79, 162.74, 554.9100000000001, 595.58, 684.13, 581.39, 790.39, 1372.1999999999998, 1385.3099999999997, 1445.9499999999998, 71.55, 353.57, 911.6700000000001, 924.7800000000001, 1016.69, 141.01, 176.97, 687.55, 700.87, 835.05, 297.98, 433.98, 981.19, 1004.5200000000001, 1527.21, 204.63, 270.93, 556.9300000000001, 652.7900000000001, 788.69, 372.98, 493.08000000000004, 1051.18, 1078.39, 1493.64, 69.78, 669.79, 1447.23, 1460.34, 1614.3999999999999, 60.83, 185.36, 778.9, 802.23, 1157.23, 182.12, 398.12, 794.4300000000001, 807.8900000000001, 874.7600000000001, 276.0, 326.18, 326.18, 366.85, 786.1400000000001, 466.86, 542.88, 1178.63, 1205.17, 1272.17, 260.02, 346.26, 676.87, 686.69, 707.2900000000001, 206.95, 452.77, 774.4, 824.86, 1085.8600000000001, 59.52, 125.82, 636.4, 668.78, 731.5, 58.42, 160.13, 1109.8899999999999, 1123.35, 1234.9299999999998, 936.89, 993.3, 1630.84, 1654.1699999999998, 1900.2399999999998, 174.33, 235.09, 627.26, 637.92, 783.0699999999999, 181.05, 268.68, 633.6800000000001, 668.95, 705.1800000000001, 124.64, 182.19, 504.08, 539.35, 625.82, 108.0, 373.62, 1145.55, 1201.08, 1562.83]\n"
     ]
    }
   ],
   "source": [
    "random_meal_cal = [];random_meal_car = []\n",
    "random_meal_pro= [];random_meal_fat = []\n",
    "random_meal_sug = [];random_meal_sod = []\n",
    "data_set_list = [main_dish_dataset, side_dish_dataset, rice_dataset, kimchi_dataset, soup_dataset]\n",
    "for i in range(len(random_meal)):\n",
    "        meal_cal, meal_car, meal_pro, meal_fat, meal_sug, meal_sod = 0, 0, 0, 0, 0, 0\n",
    "        for j in range(5):\n",
    "                recipe_id = random_meal[i][j]\n",
    "                # 'recipe_id'에 해당하는 행을 찾음\n",
    "                row = data_set_list[j][data_set_list[j]['RecipeID'] == recipe_id]\n",
    "                if not row.empty:\n",
    "                        row = row.iloc[0]  # 첫 번째 일치하는 행을 선택\n",
    "                        cal = row['calories'];car = row['carbohydrate']\n",
    "                        pro = row['protein'];fat = row['fat']\n",
    "                        sug = row['sugar'];sod = row['sodium']   \n",
    "\n",
    "                        meal_cal += cal;meal_car += car\n",
    "                        meal_pro += pro;meal_fat += fat\n",
    "                        meal_sug += sug;meal_sod += sod\n",
    "\n",
    "                random_meal_cal.append(meal_cal);random_meal_car.append(meal_car)\n",
    "                random_meal_fat.append(meal_fat);random_meal_pro.append(meal_pro)\n",
    "                random_meal_sug.append(meal_sug);random_meal_sod.append(meal_sod)\n",
    "\n",
    "print(recipe_id)\n",
    "print(row)\n",
    "print(random_meal_cal)\n"
   ]
  },
  {
   "cell_type": "code",
   "execution_count": 13,
   "metadata": {},
   "outputs": [
    {
     "name": "stdout",
     "output_type": "stream",
     "text": [
      "[[93, 17, 5, 13, 151], [59, 129, 52, 22, 9], [152, 36, 6, 24, 42], [12, 17, 7, 16, 61], [46, 46, 15, 21, 94], [143, 20, 4, 1, 74], [156, 114, 53, 9, 96], [33, 90, 55, 9, 89], [126, 138, 20, 1, 48], [119, 18, 52, 26, 130], [93, 29, 44, 2, 27], [147, 85, 22, 11, 130], [80, 87, 31, 8, 153], [19, 95, 44, 3, 185], [118, 130, 37, 8, 143], [99, 50, 22, 14, 152], [130, 114, 27, 9, 54], [138, 77, 31, 18, 174], [192, 57, 27, 25, 95], [156, 91, 48, 24, 61], [167, 58, 33, 22, 66], [74, 37, 2, 5, 19], [182, 107, 21, 6, 26], [163, 42, 24, 19, 164], [96, 100, 36, 17, 153], [102, 73, 39, 8, 156], [80, 52, 8, 1, 39], [90, 68, 42, 7, 180], [102, 26, 30, 23, 73], [68, 5, 31, 5, 112], [32, 125, 4, 12, 152], [75, 38, 17, 10, 128], [78, 11, 14, 4, 48], [27, 147, 17, 14, 78], [176, 65, 29, 6, 64], [37, 140, 54, 9, 40], [134, 23, 29, 13, 29], [38, 33, 6, 11, 163], [124, 11, 9, 5, 74], [84, 104, 6, 14, 129], [40, 17, 52, 5, 68], [35, 45, 32, 20, 86], [50, 75, 14, 14, 6], [49, 84, 41, 20, 165], [48, 144, 6, 16, 111], [200, 146, 11, 19, 140], [160, 45, 42, 24, 36], [109, 139, 51, 1, 25], [148, 119, 41, 22, 99], [130, 108, 32, 15, 54], [4, 108, 42, 8, 6], [108, 84, 40, 13, 32], [18, 127, 22, 25, 36], [83, 67, 3, 26, 124], [173, 10, 19, 5, 68], [194, 25, 46, 7, 72], [32, 82, 17, 9, 7], [106, 26, 2, 2, 67], [68, 15, 40, 12, 171], [89, 70, 11, 6, 121], [133, 69, 34, 4, 98], [130, 80, 51, 9, 131], [158, 130, 23, 23, 79], [100, 41, 29, 23, 153], [100, 82, 27, 10, 36], [1, 100, 16, 2, 76], [48, 51, 50, 20, 38], [130, 104, 12, 16, 27], [143, 130, 5, 18, 35], [115, 6, 19, 7, 101], [76, 80, 35, 20, 141], [44, 107, 48, 4, 156], [161, 151, 40, 20, 90], [51, 151, 2, 13, 100], [131, 102, 39, 26, 1], [30, 71, 2, 13, 14], [186, 128, 45, 4, 54], [37, 136, 3, 13, 67], [91, 61, 55, 16, 63], [169, 58, 50, 24, 94], [27, 143, 7, 21, 87], [178, 44, 25, 21, 93], [171, 66, 24, 19, 119], [161, 5, 3, 13, 22], [20, 80, 51, 22, 58], [73, 97, 25, 12, 1], [67, 7, 11, 21, 143], [66, 122, 26, 13, 25], [14, 6, 54, 25, 65], [163, 68, 2, 24, 2], [1, 32, 32, 16, 116], [79, 15, 19, 7, 97], [84, 117, 28, 14, 177], [103, 80, 24, 17, 99], [82, 98, 43, 25, 103], [28, 56, 31, 13, 41], [83, 84, 50, 10, 53], [34, 90, 18, 4, 91], [187, 48, 34, 4, 59], [50, 118, 14, 1, 36]]\n"
     ]
    }
   ],
   "source": [
    "print(random_meal)"
   ]
  },
  {
   "cell_type": "code",
   "execution_count": null,
   "metadata": {},
   "outputs": [],
   "source": [
    "max_daily_Calories=2700\n",
    "max_daily_Carbohydrate=325\n",
    "max_daily_Protein=200\n",
    "max_daily_fat=100\n",
    "max_daily_Sugar=40\n",
    "max_daily_Sodium=2300\n",
    "max_list=[max_daily_Calories, max_daily_Carbohydrate, max_daily_Protein, max_daily_fat, max_daily_Sugar, max_daily_Sodium]\n",
    "\n",
    "max_one_meal_Calories=1500\n",
    "max_one_meal_Carbohydrate=200\n",
    "max_one_meal_Protein=150\n",
    "max_one_meal_fat=60\n",
    "max_one_meal_Sugar=30\n",
    "max_one_meal_Sodium=1500\n",
    "max_one_meal_list=[max_one_meal_Calories, max_one_meal_Carbohydrate, max_one_meal_Protein, max_one_meal_fat, max_one_meal_Sugar, max_one_meal_Sodium]"
   ]
  },
  {
   "cell_type": "code",
   "execution_count": 75,
   "metadata": {},
   "outputs": [],
   "source": [
    "extracted_data=random_meal.copy()\n",
    "for column,maximum in zip(extracted_data.columns[2:7],max_one_meal_list):\n",
    "    extracted_data=extracted_data[extracted_data[column]<maximum]"
   ]
  },
  {
   "cell_type": "code",
   "execution_count": null,
   "metadata": {},
   "outputs": [],
   "source": []
  },
  {
   "cell_type": "code",
   "execution_count": 76,
   "metadata": {},
   "outputs": [
    {
     "data": {
      "text/html": [
       "<div>\n",
       "<style scoped>\n",
       "    .dataframe tbody tr th:only-of-type {\n",
       "        vertical-align: middle;\n",
       "    }\n",
       "\n",
       "    .dataframe tbody tr th {\n",
       "        vertical-align: top;\n",
       "    }\n",
       "\n",
       "    .dataframe thead th {\n",
       "        text-align: right;\n",
       "    }\n",
       "</style>\n",
       "<table border=\"1\" class=\"dataframe\">\n",
       "  <thead>\n",
       "    <tr style=\"text-align: right;\">\n",
       "      <th></th>\n",
       "      <th>RecipeId</th>\n",
       "      <th>Name</th>\n",
       "      <th>Calories</th>\n",
       "      <th>carbohydrate</th>\n",
       "      <th>protein</th>\n",
       "      <th>fat</th>\n",
       "      <th>sugar</th>\n",
       "      <th>Sodium</th>\n",
       "    </tr>\n",
       "  </thead>\n",
       "  <tbody>\n",
       "    <tr>\n",
       "      <th>0</th>\n",
       "      <td>1</td>\n",
       "      <td>오징어순대</td>\n",
       "      <td>466.86</td>\n",
       "      <td>58.30</td>\n",
       "      <td>45.70</td>\n",
       "      <td>5.60</td>\n",
       "      <td>0.40</td>\n",
       "      <td>1258.71</td>\n",
       "    </tr>\n",
       "    <tr>\n",
       "      <th>1</th>\n",
       "      <td>2</td>\n",
       "      <td>대구찜</td>\n",
       "      <td>376.42</td>\n",
       "      <td>24.70</td>\n",
       "      <td>51.70</td>\n",
       "      <td>7.90</td>\n",
       "      <td>5.70</td>\n",
       "      <td>1898.67</td>\n",
       "    </tr>\n",
       "    <tr>\n",
       "      <th>2</th>\n",
       "      <td>3</td>\n",
       "      <td>동태찜</td>\n",
       "      <td>394.32</td>\n",
       "      <td>25.80</td>\n",
       "      <td>50.90</td>\n",
       "      <td>9.70</td>\n",
       "      <td>5.70</td>\n",
       "      <td>1985.60</td>\n",
       "    </tr>\n",
       "    <tr>\n",
       "      <th>5</th>\n",
       "      <td>6</td>\n",
       "      <td>매운갈비찜</td>\n",
       "      <td>517.44</td>\n",
       "      <td>23.70</td>\n",
       "      <td>61.30</td>\n",
       "      <td>19.70</td>\n",
       "      <td>10.70</td>\n",
       "      <td>1138.51</td>\n",
       "    </tr>\n",
       "    <tr>\n",
       "      <th>6</th>\n",
       "      <td>7</td>\n",
       "      <td>북어찜</td>\n",
       "      <td>235.00</td>\n",
       "      <td>18.00</td>\n",
       "      <td>28.10</td>\n",
       "      <td>5.70</td>\n",
       "      <td>6.40</td>\n",
       "      <td>900.98</td>\n",
       "    </tr>\n",
       "    <tr>\n",
       "      <th>...</th>\n",
       "      <td>...</td>\n",
       "      <td>...</td>\n",
       "      <td>...</td>\n",
       "      <td>...</td>\n",
       "      <td>...</td>\n",
       "      <td>...</td>\n",
       "      <td>...</td>\n",
       "      <td>...</td>\n",
       "    </tr>\n",
       "    <tr>\n",
       "      <th>197</th>\n",
       "      <td>198</td>\n",
       "      <td>콩조림</td>\n",
       "      <td>84.27</td>\n",
       "      <td>10.45</td>\n",
       "      <td>5.39</td>\n",
       "      <td>2.32</td>\n",
       "      <td>1.06</td>\n",
       "      <td>260.31</td>\n",
       "    </tr>\n",
       "    <tr>\n",
       "      <th>198</th>\n",
       "      <td>199</td>\n",
       "      <td>곤약 감자조림</td>\n",
       "      <td>37.80</td>\n",
       "      <td>8.78</td>\n",
       "      <td>0.64</td>\n",
       "      <td>0.01</td>\n",
       "      <td>0.00</td>\n",
       "      <td>305.00</td>\n",
       "    </tr>\n",
       "    <tr>\n",
       "      <th>199</th>\n",
       "      <td>200</td>\n",
       "      <td>갈치조림</td>\n",
       "      <td>100.00</td>\n",
       "      <td>7.00</td>\n",
       "      <td>9.00</td>\n",
       "      <td>4.00</td>\n",
       "      <td>3.00</td>\n",
       "      <td>321.00</td>\n",
       "    </tr>\n",
       "    <tr>\n",
       "      <th>200</th>\n",
       "      <td>201</td>\n",
       "      <td>고등어조림</td>\n",
       "      <td>113.00</td>\n",
       "      <td>7.00</td>\n",
       "      <td>10.00</td>\n",
       "      <td>5.00</td>\n",
       "      <td>3.00</td>\n",
       "      <td>310.00</td>\n",
       "    </tr>\n",
       "    <tr>\n",
       "      <th>201</th>\n",
       "      <td>202</td>\n",
       "      <td>가자미두마리조림</td>\n",
       "      <td>99.00</td>\n",
       "      <td>7.00</td>\n",
       "      <td>11.00</td>\n",
       "      <td>2.50</td>\n",
       "      <td>3.00</td>\n",
       "      <td>378.00</td>\n",
       "    </tr>\n",
       "  </tbody>\n",
       "</table>\n",
       "<p>192 rows × 8 columns</p>\n",
       "</div>"
      ],
      "text/plain": [
       "     RecipeId      Name  Calories  carbohydrate  protein    fat  sugar  \\\n",
       "0           1     오징어순대    466.86         58.30    45.70   5.60   0.40   \n",
       "1           2       대구찜    376.42         24.70    51.70   7.90   5.70   \n",
       "2           3       동태찜    394.32         25.80    50.90   9.70   5.70   \n",
       "5           6     매운갈비찜    517.44         23.70    61.30  19.70  10.70   \n",
       "6           7       북어찜    235.00         18.00    28.10   5.70   6.40   \n",
       "..        ...       ...       ...           ...      ...    ...    ...   \n",
       "197       198       콩조림     84.27         10.45     5.39   2.32   1.06   \n",
       "198       199   곤약 감자조림     37.80          8.78     0.64   0.01   0.00   \n",
       "199       200      갈치조림    100.00          7.00     9.00   4.00   3.00   \n",
       "200       201     고등어조림    113.00          7.00    10.00   5.00   3.00   \n",
       "201       202  가자미두마리조림     99.00          7.00    11.00   2.50   3.00   \n",
       "\n",
       "      Sodium  \n",
       "0    1258.71  \n",
       "1    1898.67  \n",
       "2    1985.60  \n",
       "5    1138.51  \n",
       "6     900.98  \n",
       "..       ...  \n",
       "197   260.31  \n",
       "198   305.00  \n",
       "199   321.00  \n",
       "200   310.00  \n",
       "201   378.00  \n",
       "\n",
       "[192 rows x 8 columns]"
      ]
     },
     "execution_count": 76,
     "metadata": {},
     "output_type": "execute_result"
    }
   ],
   "source": []
  },
  {
   "cell_type": "code",
   "execution_count": 77,
   "metadata": {},
   "outputs": [
    {
     "data": {
      "image/png": "[encoded data removed]",
      "text/plain": [
       "<Figure size 1000x800 with 1 Axes>"
      ]
     },
     "metadata": {},
     "output_type": "display_data"
    }
   ],
   "source": [
    "fig, ax = plt.subplots(figsize=(10, 8))\n",
    "plt.title('Frequency Histogram')\n",
    "plt.ylabel('Frequency')\n",
    "plt.xlabel('Bins Center')\n",
    "ax.hist(extracted_data.Calories.to_numpy(),bins=[0,100,200,300,400,500,600,700,800,900,1000,1000,2000,3000,5000],linewidth=0.5, edgecolor=\"white\")\n",
    "plt.show()"
   ]
  },
  {
   "cell_type": "code",
   "execution_count": null,
   "metadata": {},
   "outputs": [],
   "source": [
    "final_main_dish = extracted_data.copy()"
   ]
  },
  {
   "cell_type": "code",
   "execution_count": null,
   "metadata": {},
   "outputs": [],
   "source": []
  }
 ],
 "metadata": {
  "kernelspec": {
   "display_name": "Python 3",
   "language": "python",
   "name": "python3"
  },
  "language_info": {
   "codemirror_mode": {
    "name": "ipython",
    "version": 3
   },
   "file_extension": ".py",
   "mimetype": "text/x-python",
   "name": "python",
   "nbconvert_exporter": "python",
   "pygments_lexer": "ipython3",
   "version": "3.11.2"
  }
 },
 "nbformat": 4,
 "nbformat_minor": 2
}
